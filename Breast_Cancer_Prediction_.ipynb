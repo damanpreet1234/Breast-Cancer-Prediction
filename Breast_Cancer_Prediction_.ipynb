{
  "nbformat": 4,
  "nbformat_minor": 0,
  "metadata": {
    "colab": {
      "name": "Breast Cancer Prediction .ipynb",
      "provenance": [],
      "collapsed_sections": []
    },
    "kernelspec": {
      "name": "python3",
      "display_name": "Python 3"
    }
  },
  "cells": [
    {
      "cell_type": "markdown",
      "metadata": {
        "id": "thX4QoFjlb9-"
      },
      "source": [
        "#Breast Cancer Prediction\r\n",
        "#Importing the libraries\r\n",
        "\r\n"
      ]
    },
    {
      "cell_type": "code",
      "metadata": {
        "id": "w4aO_FwAlJC_"
      },
      "source": [
        "import numpy as np\r\n",
        "import pandas as pd\r\n",
        "import matplotlib.pyplot as plt\r\n",
        "import seaborn as sns\r\n",
        "from sklearn.metrics import classification_report\r\n",
        "from sklearn.metrics import confusion_matrix\r\n",
        "from sklearn.metrics import accuracy_score\r\n",
        "from sklearn.model_selection import train_test_split\r\n",
        "from sklearn.model_selection import cross_val_score\r\n",
        "from sklearn.model_selection import KFold\r\n",
        "from sklearn.tree import DecisionTreeClassifier\r\n",
        "from sklearn.neighbors import KNeighborsClassifier\r\n",
        "from sklearn.naive_bayes import GaussianNB\r\n",
        "from sklearn.linear_model import LogisticRegression\r\n",
        "from sklearn.pipeline import Pipeline\r\n",
        "from sklearn.preprocessing import StandardScaler\r\n",
        "from sklearn.model_selection import GridSearchCV\r\n",
        "from sklearn.svm import SVC\r\n",
        "import time"
      ],
      "execution_count": 1,
      "outputs": []
    },
    {
      "cell_type": "code",
      "metadata": {
        "colab": {
          "base_uri": "https://localhost:8080/",
          "height": 212
        },
        "id": "WFni8c23lh9l",
        "outputId": "b6a47e51-a77d-471d-a268-9982974cfc5c"
      },
      "source": [
        "dataset = pd.read_csv('/content/drive/MyDrive/kaggle/breast_cancer.csv')\r\n",
        "dataset.head()"
      ],
      "execution_count": 2,
      "outputs": [
        {
          "output_type": "execute_result",
          "data": {
            "text/html": [
              "<div>\n",
              "<style scoped>\n",
              "    .dataframe tbody tr th:only-of-type {\n",
              "        vertical-align: middle;\n",
              "    }\n",
              "\n",
              "    .dataframe tbody tr th {\n",
              "        vertical-align: top;\n",
              "    }\n",
              "\n",
              "    .dataframe thead th {\n",
              "        text-align: right;\n",
              "    }\n",
              "</style>\n",
              "<table border=\"1\" class=\"dataframe\">\n",
              "  <thead>\n",
              "    <tr style=\"text-align: right;\">\n",
              "      <th></th>\n",
              "      <th>Sample code number</th>\n",
              "      <th>Clump Thickness</th>\n",
              "      <th>Uniformity of Cell Size</th>\n",
              "      <th>Uniformity of Cell Shape</th>\n",
              "      <th>Marginal Adhesion</th>\n",
              "      <th>Single Epithelial Cell Size</th>\n",
              "      <th>Bare Nuclei</th>\n",
              "      <th>Bland Chromatin</th>\n",
              "      <th>Normal Nucleoli</th>\n",
              "      <th>Mitoses</th>\n",
              "      <th>Class</th>\n",
              "    </tr>\n",
              "  </thead>\n",
              "  <tbody>\n",
              "    <tr>\n",
              "      <th>0</th>\n",
              "      <td>1000025</td>\n",
              "      <td>5</td>\n",
              "      <td>1</td>\n",
              "      <td>1</td>\n",
              "      <td>1</td>\n",
              "      <td>2</td>\n",
              "      <td>1</td>\n",
              "      <td>3</td>\n",
              "      <td>1</td>\n",
              "      <td>1</td>\n",
              "      <td>2</td>\n",
              "    </tr>\n",
              "    <tr>\n",
              "      <th>1</th>\n",
              "      <td>1002945</td>\n",
              "      <td>5</td>\n",
              "      <td>4</td>\n",
              "      <td>4</td>\n",
              "      <td>5</td>\n",
              "      <td>7</td>\n",
              "      <td>10</td>\n",
              "      <td>3</td>\n",
              "      <td>2</td>\n",
              "      <td>1</td>\n",
              "      <td>2</td>\n",
              "    </tr>\n",
              "    <tr>\n",
              "      <th>2</th>\n",
              "      <td>1015425</td>\n",
              "      <td>3</td>\n",
              "      <td>1</td>\n",
              "      <td>1</td>\n",
              "      <td>1</td>\n",
              "      <td>2</td>\n",
              "      <td>2</td>\n",
              "      <td>3</td>\n",
              "      <td>1</td>\n",
              "      <td>1</td>\n",
              "      <td>2</td>\n",
              "    </tr>\n",
              "    <tr>\n",
              "      <th>3</th>\n",
              "      <td>1016277</td>\n",
              "      <td>6</td>\n",
              "      <td>8</td>\n",
              "      <td>8</td>\n",
              "      <td>1</td>\n",
              "      <td>3</td>\n",
              "      <td>4</td>\n",
              "      <td>3</td>\n",
              "      <td>7</td>\n",
              "      <td>1</td>\n",
              "      <td>2</td>\n",
              "    </tr>\n",
              "    <tr>\n",
              "      <th>4</th>\n",
              "      <td>1017023</td>\n",
              "      <td>4</td>\n",
              "      <td>1</td>\n",
              "      <td>1</td>\n",
              "      <td>3</td>\n",
              "      <td>2</td>\n",
              "      <td>1</td>\n",
              "      <td>3</td>\n",
              "      <td>1</td>\n",
              "      <td>1</td>\n",
              "      <td>2</td>\n",
              "    </tr>\n",
              "  </tbody>\n",
              "</table>\n",
              "</div>"
            ],
            "text/plain": [
              "   Sample code number  Clump Thickness  ...  Mitoses  Class\n",
              "0             1000025                5  ...        1      2\n",
              "1             1002945                5  ...        1      2\n",
              "2             1015425                3  ...        1      2\n",
              "3             1016277                6  ...        1      2\n",
              "4             1017023                4  ...        1      2\n",
              "\n",
              "[5 rows x 11 columns]"
            ]
          },
          "metadata": {
            "tags": []
          },
          "execution_count": 2
        }
      ]
    },
    {
      "cell_type": "code",
      "metadata": {
        "colab": {
          "base_uri": "https://localhost:8080/"
        },
        "id": "ce_Z6pprloxI",
        "outputId": "2bb0f26f-6020-42bf-b092-fb129dcbc11e"
      },
      "source": [
        "dataset.info()\r\n"
      ],
      "execution_count": 3,
      "outputs": [
        {
          "output_type": "stream",
          "text": [
            "<class 'pandas.core.frame.DataFrame'>\n",
            "RangeIndex: 683 entries, 0 to 682\n",
            "Data columns (total 11 columns):\n",
            " #   Column                       Non-Null Count  Dtype\n",
            "---  ------                       --------------  -----\n",
            " 0   Sample code number           683 non-null    int64\n",
            " 1   Clump Thickness              683 non-null    int64\n",
            " 2   Uniformity of Cell Size      683 non-null    int64\n",
            " 3   Uniformity of Cell Shape     683 non-null    int64\n",
            " 4   Marginal Adhesion            683 non-null    int64\n",
            " 5   Single Epithelial Cell Size  683 non-null    int64\n",
            " 6   Bare Nuclei                  683 non-null    int64\n",
            " 7   Bland Chromatin              683 non-null    int64\n",
            " 8   Normal Nucleoli              683 non-null    int64\n",
            " 9   Mitoses                      683 non-null    int64\n",
            " 10  Class                        683 non-null    int64\n",
            "dtypes: int64(11)\n",
            "memory usage: 58.8 KB\n"
          ],
          "name": "stdout"
        }
      ]
    },
    {
      "cell_type": "code",
      "metadata": {
        "colab": {
          "base_uri": "https://localhost:8080/",
          "height": 318
        },
        "id": "5IR3GBlflrB8",
        "outputId": "08d2f38c-f798-4be6-971c-ef48d0094656"
      },
      "source": [
        "dataset.describe()"
      ],
      "execution_count": 4,
      "outputs": [
        {
          "output_type": "execute_result",
          "data": {
            "text/html": [
              "<div>\n",
              "<style scoped>\n",
              "    .dataframe tbody tr th:only-of-type {\n",
              "        vertical-align: middle;\n",
              "    }\n",
              "\n",
              "    .dataframe tbody tr th {\n",
              "        vertical-align: top;\n",
              "    }\n",
              "\n",
              "    .dataframe thead th {\n",
              "        text-align: right;\n",
              "    }\n",
              "</style>\n",
              "<table border=\"1\" class=\"dataframe\">\n",
              "  <thead>\n",
              "    <tr style=\"text-align: right;\">\n",
              "      <th></th>\n",
              "      <th>Sample code number</th>\n",
              "      <th>Clump Thickness</th>\n",
              "      <th>Uniformity of Cell Size</th>\n",
              "      <th>Uniformity of Cell Shape</th>\n",
              "      <th>Marginal Adhesion</th>\n",
              "      <th>Single Epithelial Cell Size</th>\n",
              "      <th>Bare Nuclei</th>\n",
              "      <th>Bland Chromatin</th>\n",
              "      <th>Normal Nucleoli</th>\n",
              "      <th>Mitoses</th>\n",
              "      <th>Class</th>\n",
              "    </tr>\n",
              "  </thead>\n",
              "  <tbody>\n",
              "    <tr>\n",
              "      <th>count</th>\n",
              "      <td>6.830000e+02</td>\n",
              "      <td>683.000000</td>\n",
              "      <td>683.000000</td>\n",
              "      <td>683.000000</td>\n",
              "      <td>683.000000</td>\n",
              "      <td>683.000000</td>\n",
              "      <td>683.000000</td>\n",
              "      <td>683.000000</td>\n",
              "      <td>683.000000</td>\n",
              "      <td>683.000000</td>\n",
              "      <td>683.000000</td>\n",
              "    </tr>\n",
              "    <tr>\n",
              "      <th>mean</th>\n",
              "      <td>1.076720e+06</td>\n",
              "      <td>4.442167</td>\n",
              "      <td>3.150805</td>\n",
              "      <td>3.215227</td>\n",
              "      <td>2.830161</td>\n",
              "      <td>3.234261</td>\n",
              "      <td>3.544656</td>\n",
              "      <td>3.445095</td>\n",
              "      <td>2.869693</td>\n",
              "      <td>1.603221</td>\n",
              "      <td>2.699854</td>\n",
              "    </tr>\n",
              "    <tr>\n",
              "      <th>std</th>\n",
              "      <td>6.206440e+05</td>\n",
              "      <td>2.820761</td>\n",
              "      <td>3.065145</td>\n",
              "      <td>2.988581</td>\n",
              "      <td>2.864562</td>\n",
              "      <td>2.223085</td>\n",
              "      <td>3.643857</td>\n",
              "      <td>2.449697</td>\n",
              "      <td>3.052666</td>\n",
              "      <td>1.732674</td>\n",
              "      <td>0.954592</td>\n",
              "    </tr>\n",
              "    <tr>\n",
              "      <th>min</th>\n",
              "      <td>6.337500e+04</td>\n",
              "      <td>1.000000</td>\n",
              "      <td>1.000000</td>\n",
              "      <td>1.000000</td>\n",
              "      <td>1.000000</td>\n",
              "      <td>1.000000</td>\n",
              "      <td>1.000000</td>\n",
              "      <td>1.000000</td>\n",
              "      <td>1.000000</td>\n",
              "      <td>1.000000</td>\n",
              "      <td>2.000000</td>\n",
              "    </tr>\n",
              "    <tr>\n",
              "      <th>25%</th>\n",
              "      <td>8.776170e+05</td>\n",
              "      <td>2.000000</td>\n",
              "      <td>1.000000</td>\n",
              "      <td>1.000000</td>\n",
              "      <td>1.000000</td>\n",
              "      <td>2.000000</td>\n",
              "      <td>1.000000</td>\n",
              "      <td>2.000000</td>\n",
              "      <td>1.000000</td>\n",
              "      <td>1.000000</td>\n",
              "      <td>2.000000</td>\n",
              "    </tr>\n",
              "    <tr>\n",
              "      <th>50%</th>\n",
              "      <td>1.171795e+06</td>\n",
              "      <td>4.000000</td>\n",
              "      <td>1.000000</td>\n",
              "      <td>1.000000</td>\n",
              "      <td>1.000000</td>\n",
              "      <td>2.000000</td>\n",
              "      <td>1.000000</td>\n",
              "      <td>3.000000</td>\n",
              "      <td>1.000000</td>\n",
              "      <td>1.000000</td>\n",
              "      <td>2.000000</td>\n",
              "    </tr>\n",
              "    <tr>\n",
              "      <th>75%</th>\n",
              "      <td>1.238705e+06</td>\n",
              "      <td>6.000000</td>\n",
              "      <td>5.000000</td>\n",
              "      <td>5.000000</td>\n",
              "      <td>4.000000</td>\n",
              "      <td>4.000000</td>\n",
              "      <td>6.000000</td>\n",
              "      <td>5.000000</td>\n",
              "      <td>4.000000</td>\n",
              "      <td>1.000000</td>\n",
              "      <td>4.000000</td>\n",
              "    </tr>\n",
              "    <tr>\n",
              "      <th>max</th>\n",
              "      <td>1.345435e+07</td>\n",
              "      <td>10.000000</td>\n",
              "      <td>10.000000</td>\n",
              "      <td>10.000000</td>\n",
              "      <td>10.000000</td>\n",
              "      <td>10.000000</td>\n",
              "      <td>10.000000</td>\n",
              "      <td>10.000000</td>\n",
              "      <td>10.000000</td>\n",
              "      <td>10.000000</td>\n",
              "      <td>4.000000</td>\n",
              "    </tr>\n",
              "  </tbody>\n",
              "</table>\n",
              "</div>"
            ],
            "text/plain": [
              "       Sample code number  Clump Thickness  ...     Mitoses       Class\n",
              "count        6.830000e+02       683.000000  ...  683.000000  683.000000\n",
              "mean         1.076720e+06         4.442167  ...    1.603221    2.699854\n",
              "std          6.206440e+05         2.820761  ...    1.732674    0.954592\n",
              "min          6.337500e+04         1.000000  ...    1.000000    2.000000\n",
              "25%          8.776170e+05         2.000000  ...    1.000000    2.000000\n",
              "50%          1.171795e+06         4.000000  ...    1.000000    2.000000\n",
              "75%          1.238705e+06         6.000000  ...    1.000000    4.000000\n",
              "max          1.345435e+07        10.000000  ...   10.000000    4.000000\n",
              "\n",
              "[8 rows x 11 columns]"
            ]
          },
          "metadata": {
            "tags": []
          },
          "execution_count": 4
        }
      ]
    },
    {
      "cell_type": "code",
      "metadata": {
        "colab": {
          "base_uri": "https://localhost:8080/"
        },
        "id": "td3v3SMjluBZ",
        "outputId": "45a539e1-7725-4585-d5f7-baf8b298cb0d"
      },
      "source": [
        "dataset.isnull().any()"
      ],
      "execution_count": 5,
      "outputs": [
        {
          "output_type": "execute_result",
          "data": {
            "text/plain": [
              "Sample code number             False\n",
              "Clump Thickness                False\n",
              "Uniformity of Cell Size        False\n",
              "Uniformity of Cell Shape       False\n",
              "Marginal Adhesion              False\n",
              "Single Epithelial Cell Size    False\n",
              "Bare Nuclei                    False\n",
              "Bland Chromatin                False\n",
              "Normal Nucleoli                False\n",
              "Mitoses                        False\n",
              "Class                          False\n",
              "dtype: bool"
            ]
          },
          "metadata": {
            "tags": []
          },
          "execution_count": 5
        }
      ]
    },
    {
      "cell_type": "code",
      "metadata": {
        "colab": {
          "base_uri": "https://localhost:8080/",
          "height": 711
        },
        "id": "D8qMjMXOlv_a",
        "outputId": "89d36222-d5e6-4072-d06c-53cd58974bc2"
      },
      "source": [
        "plt.figure(figsize = (10,10))\r\n",
        "sns.heatmap(dataset.corr(), annot=True)\r\n",
        "plt.show()"
      ],
      "execution_count": 6,
      "outputs": [
        {
          "output_type": "display_data",
          "data": {
            "image/png": "[encoded data removed]",
            "text/plain": [
              "<Figure size 720x720 with 2 Axes>"
            ]
          },
          "metadata": {
            "tags": [],
            "needs_background": "light"
          }
        }
      ]
    },
    {
      "cell_type": "code",
      "metadata": {
        "colab": {
          "base_uri": "https://localhost:8080/"
        },
        "id": "dqztUHUnlzk8",
        "outputId": "510ed176-8bb1-4e4e-cc54-31bf7cd27ba0"
      },
      "source": [
        "dataset[\"Sample code number\"].unique()"
      ],
      "execution_count": 7,
      "outputs": [
        {
          "output_type": "execute_result",
          "data": {
            "text/plain": [
              "array([ 1000025,  1002945,  1015425,  1016277,  1017023,  1017122,\n",
              "        1018099,  1018561,  1033078,  1035283,  1036172,  1041801,\n",
              "        1043999,  1044572,  1047630,  1048672,  1049815,  1050670,\n",
              "        1050718,  1054590,  1054593,  1056784,  1059552,  1065726,\n",
              "        1066373,  1066979,  1067444,  1070935,  1071760,  1072179,\n",
              "        1074610,  1075123,  1079304,  1080185,  1081791,  1084584,\n",
              "        1091262,  1099510,  1100524,  1102573,  1103608,  1103722,\n",
              "        1105257,  1105524,  1106095,  1106829,  1108370,  1108449,\n",
              "        1110102,  1110503,  1110524,  1111249,  1112209,  1113038,\n",
              "        1113483,  1113906,  1115282,  1115293,  1116116,  1116132,\n",
              "        1116192,  1116998,  1117152,  1118039,  1120559,  1121732,\n",
              "        1121919,  1123061,  1124651,  1125035,  1126417,  1131294,\n",
              "        1132347,  1133041,  1133136,  1136142,  1137156,  1143978,\n",
              "        1147044,  1147699,  1147748,  1148278,  1148873,  1152331,\n",
              "        1155546,  1156272,  1156948,  1157734,  1158247,  1160476,\n",
              "        1164066,  1165297,  1165790,  1165926,  1166630,  1166654,\n",
              "        1167439,  1167471,  1168359,  1168736,  1169049,  1170419,\n",
              "        1170420,  1171710,  1171795,  1171845,  1172152,  1173216,\n",
              "        1173235,  1173347,  1173509,  1173514,  1173681,  1174057,\n",
              "        1174131,  1174428,  1175937,  1176406,  1176881,  1177027,\n",
              "        1177399,  1177512,  1178580,  1179818,  1180194,  1180523,\n",
              "        1180831,  1181356,  1182404,  1182410,  1183240,  1183516,\n",
              "        1183911,  1183983,  1184184,  1184241,  1185609,  1185610,\n",
              "        1187457,  1187805,  1188472,  1189266,  1189286,  1190394,\n",
              "        1190485,  1192325,  1193091,  1193210,  1196295,  1196915,\n",
              "        1197080,  1197270,  1197440,  1197979,  1197993,  1198128,\n",
              "        1198641,  1199219,  1199731,  1199983,  1200772,  1200847,\n",
              "        1200892,  1200952,  1201834,  1201936,  1202125,  1202812,\n",
              "        1203096,  1204242,  1204898,  1205138,  1205579,  1206089,\n",
              "        1206695,  1206841,  1207986,  1208301,  1210963,  1211202,\n",
              "        1212232,  1212251,  1212422,  1213375,  1213383,  1214092,\n",
              "        1214556,  1214966,  1216694,  1216947,  1217051,  1217264,\n",
              "        1218105,  1218741,  1218860,  1219406,  1219525,  1219859,\n",
              "        1220330,  1221863,  1222047,  1222936,  1223282,  1223426,\n",
              "        1223793,  1223967,  1224329,  1225799,  1226012,  1226612,\n",
              "        1227210,  1227244,  1227481,  1228152,  1228311,  1230175,\n",
              "        1230688,  1231387,  1231706,  1232225,  1236043,  1241559,\n",
              "        1241679,  1242364,  1243256,  1270479,  1276091,  1277018,\n",
              "         128059,  1285531,  1287775,   144888,   145447,   167528,\n",
              "         183913,   191250,   242970,   255644,   263538,   274137,\n",
              "         303213,   314428,   320675,   324427,   385103,   390840,\n",
              "         411453,   428903,   431495,   434518,   452264,   456282,\n",
              "         476903,   486283,   486662,   488173,   492268,   508234,\n",
              "         527363,   529329,   535331,   543558,   555977,   560680,\n",
              "         561477,   601265,   606722,   616240,   625201,    63375,\n",
              "         635844,   636130,   640744,   646904,   653777,   659642,\n",
              "         666090,   666942,   667204,   673637,   684955,   688033,\n",
              "         691628,   693702,   704097,   706426,   709287,   718641,\n",
              "         721482,   730881,   733639,   733823,   740492,   743348,\n",
              "         752904,   756136,   760001,   760239,    76389,   764974,\n",
              "         770066,   785208,   785615,   792744,   797327,   798429,\n",
              "         806423,   809912,   810104,   814265,   814911,   822829,\n",
              "         826923,   830690,   831268,   832226,   832567,   836433,\n",
              "         837082,   846832,   850831,   855524,   857774,   859164,\n",
              "         859350,   866325,   873549,   877291,   877943,   888169,\n",
              "         888523,   896404,   897172,    95719,   160296,   342245,\n",
              "         428598,   492561,   493452,   521441,   636437,   640712,\n",
              "         654244,   657753,   685977,   805448,   846423,  1002504,\n",
              "        1022257,  1026122,  1071084,  1080233,  1114570,  1116715,\n",
              "        1131411,  1151734,  1156017,  1158405,  1168278,  1176187,\n",
              "        1196263,  1196475,  1206314,  1211265,  1213784,  1223003,\n",
              "        1223306,  1223543,  1229929,  1231853,  1234554,  1236837,\n",
              "        1237674,  1238021,  1238633,  1238915,  1238948,  1239232,\n",
              "        1239347,  1239967,  1240337,  1253505,  1255384,  1257200,\n",
              "        1257648,  1257815,  1257938,  1258549,  1258556,  1266154,\n",
              "        1272039,  1277629,  1293439,  1294562,  1295186,   527337,\n",
              "         558538,   566509,   608157,   677910,   734111,   780555,\n",
              "         827627,  1049837,  1058849,  1193544,  1201870,  1202253,\n",
              "        1227081,  1230994,  1238410,  1246562,  1257470,  1259008,\n",
              "        1266124,  1267898,  1268313,  1268804,  1280258,  1293966,\n",
              "        1296572,  1298416,  1299596,  1181685,  1211594,  1238777,\n",
              "        1257608,  1269574,  1277145,  1287282,  1296025,  1296263,\n",
              "        1296593,  1299161,  1301945,  1302428,  1318169,   474162,\n",
              "         787451,  1002025,  1070522,  1073960,  1076352,  1084139,\n",
              "        1119189,  1133991,  1142706,  1155967,  1170945,  1181567,\n",
              "        1204558,  1217952,  1224565,  1238186,  1253917,  1265899,\n",
              "        1268766,  1277268,  1286943,  1295508,  1297327,  1297522,\n",
              "        1298360,  1299924,  1299994,  1304595,  1306282,  1313325,\n",
              "        1320077,  1320304,  1330439,   333093,   369565,   412300,\n",
              "         672113,   749653,   769612,   807657,  8233704,   837480,\n",
              "         867392,   869828,  1043068,  1056171,  1061990,  1113061,\n",
              "        1135090,  1145420,  1158157,  1171578,  1174841,  1184586,\n",
              "        1186936,  1197527,  1222464,  1240603,  1241035,  1287971,\n",
              "        1289391,  1306339,  1313658,  1313982,  1321264,  1321321,\n",
              "        1321348,  1321931,  1321942,  1328331,  1328755,  1331405,\n",
              "        1331412,  1333104,  1334071,  1343068,  1343374,  1344121,\n",
              "         142932,   183936,   324382,   378275,   690557,   695091,\n",
              "         695219,   824249,   871549,   878358,  1107684,  1115762,\n",
              "        1217717,  1239420,  1254538,  1261751,  1268275,  1272166,\n",
              "        1294261,  1295529,  1298484,  1311875,  1315506,  1320141,\n",
              "        1325309,  1333063,  1333495,  1334659,  1336798,  1344449,\n",
              "        1350568,  1352663,   188336,   352431,   353098,   557583,\n",
              "         636375,   736150,   803531,  1016634,  1031608,  1041043,\n",
              "        1042252,  1073836,  1083817,  1096352,  1140597,  1149548,\n",
              "        1174009,  1183596,  1190386,  1190546,  1213273,  1218982,\n",
              "        1225382,  1235807,  1253955,  1257366,  1260659,  1268952,\n",
              "        1275807,  1277792,  1285722,  1288608,  1290203,  1294413,\n",
              "        1303489,  1311033,  1311108,  1315807,  1318671,  1319609,\n",
              "        1323477,  1324572,  1324681,  1325159,  1326892,  1330361,\n",
              "        1333877,  1334015,  1334667,  1339781, 13454352,  1345452,\n",
              "        1345593,  1347749,  1347943,  1348851,  1350319,  1350423,\n",
              "        1352848,  1353092,  1354840,  1355260,  1365075,  1365328,\n",
              "        1368267,  1368273,  1368882,  1369821,  1371026,  1371920,\n",
              "         466906,   534555,   536708,   566346,   603148,   654546,\n",
              "         714039,   763235,   776715,   841769,   888820,   897471])"
            ]
          },
          "metadata": {
            "tags": []
          },
          "execution_count": 7
        }
      ]
    },
    {
      "cell_type": "code",
      "metadata": {
        "colab": {
          "base_uri": "https://localhost:8080/",
          "height": 132
        },
        "id": "MObRYxmgl29b",
        "outputId": "9c420a02-a1a1-44a1-abd1-b9e3f56c97dd"
      },
      "source": [
        "dataset.plot(kind='density', subplots=True, layout=(5,7), sharex=False, legend=False, fontsize=1)\r\n",
        "plt.show()"
      ],
      "execution_count": 8,
      "outputs": [
        {
          "output_type": "display_data",
          "data": {
            "image/png": "[encoded data removed]",
            "text/plain": [
              "<Figure size 432x288 with 35 Axes>"
            ]
          },
          "metadata": {
            "tags": [],
            "needs_background": "light"
          }
        }
      ]
    },
    {
      "cell_type": "code",
      "metadata": {
        "id": "KGBuM2v4l6N5"
      },
      "source": [
        "X = dataset.iloc[:, 1:-1].values\r\n",
        "y = dataset.iloc[:, -1].values"
      ],
      "execution_count": 9,
      "outputs": []
    },
    {
      "cell_type": "code",
      "metadata": {
        "colab": {
          "base_uri": "https://localhost:8080/"
        },
        "id": "H_2JTQxql8ce",
        "outputId": "74893736-79a9-4480-bd99-d593f6b8df44"
      },
      "source": [
        "print(X.shape,y.shape)"
      ],
      "execution_count": 10,
      "outputs": [
        {
          "output_type": "stream",
          "text": [
            "(683, 9) (683,)\n"
          ],
          "name": "stdout"
        }
      ]
    },
    {
      "cell_type": "code",
      "metadata": {
        "id": "VG0uHET5l_4X"
      },
      "source": [
        "#Import the f_classif function and feed in the features and response:\r\n",
        "from sklearn.feature_selection import f_classif\r\n",
        "[f_stat, f_p_value] = f_classif(X, y)"
      ],
      "execution_count": 11,
      "outputs": []
    },
    {
      "cell_type": "code",
      "metadata": {
        "colab": {
          "base_uri": "https://localhost:8080/",
          "height": 314
        },
        "id": "g0khT9k7mCeE",
        "outputId": "47307b52-fea6-40d2-b84e-ab2a393eb4aa"
      },
      "source": [
        "#create a DataFrame of feature names, F-statistics, and p-values, and show it sorted on p-value:\r\n",
        "f_test_df = pd.DataFrame({'Feature':dataset.columns[1:-1],\r\n",
        "                          'F statistic':f_stat,\r\n",
        "                          'p value':f_p_value})\r\n",
        "f_test_df.sort_values('p value')"
      ],
      "execution_count": 12,
      "outputs": [
        {
          "output_type": "execute_result",
          "data": {
            "text/html": [
              "<div>\n",
              "<style scoped>\n",
              "    .dataframe tbody tr th:only-of-type {\n",
              "        vertical-align: middle;\n",
              "    }\n",
              "\n",
              "    .dataframe tbody tr th {\n",
              "        vertical-align: top;\n",
              "    }\n",
              "\n",
              "    .dataframe thead th {\n",
              "        text-align: right;\n",
              "    }\n",
              "</style>\n",
              "<table border=\"1\" class=\"dataframe\">\n",
              "  <thead>\n",
              "    <tr style=\"text-align: right;\">\n",
              "      <th></th>\n",
              "      <th>Feature</th>\n",
              "      <th>F statistic</th>\n",
              "      <th>p value</th>\n",
              "    </tr>\n",
              "  </thead>\n",
              "  <tbody>\n",
              "    <tr>\n",
              "      <th>5</th>\n",
              "      <td>Bare Nuclei</td>\n",
              "      <td>1426.240270</td>\n",
              "      <td>3.401103e-169</td>\n",
              "    </tr>\n",
              "    <tr>\n",
              "      <th>2</th>\n",
              "      <td>Uniformity of Cell Shape</td>\n",
              "      <td>1417.643841</td>\n",
              "      <td>1.369425e-168</td>\n",
              "    </tr>\n",
              "    <tr>\n",
              "      <th>1</th>\n",
              "      <td>Uniformity of Cell Size</td>\n",
              "      <td>1406.132470</td>\n",
              "      <td>8.922226e-168</td>\n",
              "    </tr>\n",
              "    <tr>\n",
              "      <th>6</th>\n",
              "      <td>Bland Chromatin</td>\n",
              "      <td>921.010015</td>\n",
              "      <td>1.267712e-128</td>\n",
              "    </tr>\n",
              "    <tr>\n",
              "      <th>7</th>\n",
              "      <td>Normal Nucleoli</td>\n",
              "      <td>727.470805</td>\n",
              "      <td>1.465645e-109</td>\n",
              "    </tr>\n",
              "    <tr>\n",
              "      <th>0</th>\n",
              "      <td>Clump Thickness</td>\n",
              "      <td>711.423446</td>\n",
              "      <td>7.292504e-108</td>\n",
              "    </tr>\n",
              "    <tr>\n",
              "      <th>3</th>\n",
              "      <td>Marginal Adhesion</td>\n",
              "      <td>677.878400</td>\n",
              "      <td>2.979778e-104</td>\n",
              "    </tr>\n",
              "    <tr>\n",
              "      <th>4</th>\n",
              "      <td>Single Epithelial Cell Size</td>\n",
              "      <td>622.157681</td>\n",
              "      <td>4.733540e-98</td>\n",
              "    </tr>\n",
              "    <tr>\n",
              "      <th>8</th>\n",
              "      <td>Mitoses</td>\n",
              "      <td>148.787689</td>\n",
              "      <td>4.304040e-31</td>\n",
              "    </tr>\n",
              "  </tbody>\n",
              "</table>\n",
              "</div>"
            ],
            "text/plain": [
              "                       Feature  F statistic        p value\n",
              "5                  Bare Nuclei  1426.240270  3.401103e-169\n",
              "2     Uniformity of Cell Shape  1417.643841  1.369425e-168\n",
              "1      Uniformity of Cell Size  1406.132470  8.922226e-168\n",
              "6              Bland Chromatin   921.010015  1.267712e-128\n",
              "7              Normal Nucleoli   727.470805  1.465645e-109\n",
              "0              Clump Thickness   711.423446  7.292504e-108\n",
              "3            Marginal Adhesion   677.878400  2.979778e-104\n",
              "4  Single Epithelial Cell Size   622.157681   4.733540e-98\n",
              "8                      Mitoses   148.787689   4.304040e-31"
            ]
          },
          "metadata": {
            "tags": []
          },
          "execution_count": 12
        }
      ]
    },
    {
      "cell_type": "code",
      "metadata": {
        "colab": {
          "base_uri": "https://localhost:8080/"
        },
        "id": "gapaKTPXmE5Y",
        "outputId": "4ae64195-1fd7-482c-be80-18b499a1dc35"
      },
      "source": [
        "# Import the SelectPercentile class:\r\n",
        "#To select the top 20% of features according to the F-test\r\n",
        "from sklearn.feature_selection import SelectPercentile\r\n",
        "#Use the .fit method to fit the object on our features and response data, similar to how a model would be fit:\r\n",
        "selector = SelectPercentile(f_classif, percentile=50)\r\n",
        "selector.fit(X, y)"
      ],
      "execution_count": 13,
      "outputs": [
        {
          "output_type": "execute_result",
          "data": {
            "text/plain": [
              "SelectPercentile(percentile=50,\n",
              "                 score_func=<function f_classif at 0x7f3c71d7b680>)"
            ]
          },
          "metadata": {
            "tags": []
          },
          "execution_count": 13
        }
      ]
    },
    {
      "cell_type": "code",
      "metadata": {
        "colab": {
          "base_uri": "https://localhost:8080/"
        },
        "id": "OIRYv5aImIAd",
        "outputId": "f7979e72-a371-4f73-9c06-921e20e872ae"
      },
      "source": [
        "#Capture the indices of the selected features in an array named best_feature_ix:\r\n",
        "best_feature_ix = selector.get_support()\r\n",
        "best_feature_ix"
      ],
      "execution_count": 14,
      "outputs": [
        {
          "output_type": "execute_result",
          "data": {
            "text/plain": [
              "array([False,  True,  True, False, False,  True,  True, False, False])"
            ]
          },
          "metadata": {
            "tags": []
          },
          "execution_count": 14
        }
      ]
    },
    {
      "cell_type": "code",
      "metadata": {
        "id": "osXD7egVmKTe"
      },
      "source": [
        "#The feature names can be obtained using all but the last element (the response variable name) of our features_response list by indexing with :-1:\r\n",
        "features = dataset.columns[1:-1]"
      ],
      "execution_count": 15,
      "outputs": []
    },
    {
      "cell_type": "code",
      "metadata": {
        "colab": {
          "base_uri": "https://localhost:8080/"
        },
        "id": "6CcP_jZ_mMmZ",
        "outputId": "fd2b55cc-58b2-4236-a79e-8ba8402d5f07"
      },
      "source": [
        "# Find the selected feature names\r\n",
        "best_features = [features[counter] for counter in range(len(features))\r\n",
        "                 if best_feature_ix[counter]]\r\n",
        "best_features"
      ],
      "execution_count": 16,
      "outputs": [
        {
          "output_type": "execute_result",
          "data": {
            "text/plain": [
              "['Uniformity of Cell Size',\n",
              " 'Uniformity of Cell Shape',\n",
              " 'Bare Nuclei',\n",
              " 'Bland Chromatin']"
            ]
          },
          "metadata": {
            "tags": []
          },
          "execution_count": 16
        }
      ]
    },
    {
      "cell_type": "markdown",
      "metadata": {
        "id": "AGSElBXymSFR"
      },
      "source": [
        "#Splitting the dataset into the Training set and Test set"
      ]
    },
    {
      "cell_type": "code",
      "metadata": {
        "id": "S9By7rrymPqM"
      },
      "source": [
        "X_train, X_test, Y_train, Y_test = train_test_split(X, y, test_size = 0.2, random_state = 0)"
      ],
      "execution_count": 17,
      "outputs": []
    },
    {
      "cell_type": "code",
      "metadata": {
        "colab": {
          "base_uri": "https://localhost:8080/"
        },
        "id": "p1Ys007cmW4m",
        "outputId": "2c056c42-9604-412f-9fa4-b487ab51736c"
      },
      "source": [
        "print(X_train.shape)\r\n",
        "print(X_test.shape)\r\n",
        "print(Y_train.shape)\r\n",
        "print(Y_test.shape)"
      ],
      "execution_count": 18,
      "outputs": [
        {
          "output_type": "stream",
          "text": [
            "(546, 9)\n",
            "(137, 9)\n",
            "(546,)\n",
            "(137,)\n"
          ],
          "name": "stdout"
        }
      ]
    },
    {
      "cell_type": "code",
      "metadata": {
        "colab": {
          "base_uri": "https://localhost:8080/"
        },
        "id": "CqJa_My6mY_I",
        "outputId": "40ac4f77-0e3c-4901-ea97-8081a6ff65c7"
      },
      "source": [
        "from collections import Counter\r\n",
        "Counter(Y_train)"
      ],
      "execution_count": 20,
      "outputs": [
        {
          "output_type": "execute_result",
          "data": {
            "text/plain": [
              "Counter({2: 357, 4: 189})"
            ]
          },
          "metadata": {
            "tags": []
          },
          "execution_count": 20
        }
      ]
    },
    {
      "cell_type": "markdown",
      "metadata": {
        "id": "tIg9k0n6miPl"
      },
      "source": [
        "#Create Baseline model on the Training set"
      ]
    },
    {
      "cell_type": "code",
      "metadata": {
        "id": "qPgzgg_LmbZl"
      },
      "source": [
        "\r\n",
        "models_list = []\r\n",
        "models_list.append(('CART', DecisionTreeClassifier()))\r\n",
        "models_list.append(('SVM', SVC())) \r\n",
        "models_list.append(('LR', LogisticRegression()))\r\n",
        "models_list.append(('NB', GaussianNB()))\r\n",
        "models_list.append(('KNN', KNeighborsClassifier()))"
      ],
      "execution_count": 21,
      "outputs": []
    },
    {
      "cell_type": "code",
      "metadata": {
        "colab": {
          "base_uri": "https://localhost:8080/"
        },
        "id": "j7azISpUmlki",
        "outputId": "4e2888d2-dbea-43a4-e63e-a788d8a541f2"
      },
      "source": [
        "num_folds = 10\r\n",
        "\r\n",
        "results = []\r\n",
        "names = []\r\n",
        "\r\n",
        "for name, model in models_list:\r\n",
        "    kfold = KFold(n_splits=num_folds, random_state=123)\r\n",
        "    start = time.time()\r\n",
        "    cv_results = cross_val_score(model, X_train, Y_train, cv=kfold, scoring='accuracy')\r\n",
        "    end = time.time()\r\n",
        "    results.append(cv_results)\r\n",
        "    names.append(name)\r\n",
        "    print( \"%s: %f (%f) (run time: %f)\" % (name, cv_results.mean(), cv_results.std(), end-start))"
      ],
      "execution_count": 23,
      "outputs": [
        {
          "output_type": "stream",
          "text": [
            "/usr/local/lib/python3.7/dist-packages/sklearn/model_selection/_split.py:296: FutureWarning: Setting a random_state has no effect since shuffle is False. This will raise an error in 0.24. You should leave random_state to its default (None), or set shuffle=True.\n",
            "  FutureWarning\n",
            "/usr/local/lib/python3.7/dist-packages/sklearn/model_selection/_split.py:296: FutureWarning: Setting a random_state has no effect since shuffle is False. This will raise an error in 0.24. You should leave random_state to its default (None), or set shuffle=True.\n",
            "  FutureWarning\n",
            "/usr/local/lib/python3.7/dist-packages/sklearn/model_selection/_split.py:296: FutureWarning: Setting a random_state has no effect since shuffle is False. This will raise an error in 0.24. You should leave random_state to its default (None), or set shuffle=True.\n",
            "  FutureWarning\n",
            "/usr/local/lib/python3.7/dist-packages/sklearn/model_selection/_split.py:296: FutureWarning: Setting a random_state has no effect since shuffle is False. This will raise an error in 0.24. You should leave random_state to its default (None), or set shuffle=True.\n",
            "  FutureWarning\n",
            "/usr/local/lib/python3.7/dist-packages/sklearn/model_selection/_split.py:296: FutureWarning: Setting a random_state has no effect since shuffle is False. This will raise an error in 0.24. You should leave random_state to its default (None), or set shuffle=True.\n",
            "  FutureWarning\n"
          ],
          "name": "stderr"
        },
        {
          "output_type": "stream",
          "text": [
            "CART: 0.948754 (0.036321) (run time: 0.020807)\n",
            "SVM: 0.967071 (0.030354) (run time: 0.035144)\n",
            "LR: 0.967003 (0.023024) (run time: 0.111486)\n",
            "NB: 0.965219 (0.027777) (run time: 0.012841)\n",
            "KNN: 0.974377 (0.024814) (run time: 0.046207)\n"
          ],
          "name": "stdout"
        }
      ]
    },
    {
      "cell_type": "code",
      "metadata": {
        "colab": {
          "base_uri": "https://localhost:8080/",
          "height": 294
        },
        "id": "B-SrIgFsmoKd",
        "outputId": "074af599-f2b8-4eb4-d394-50ed98480bea"
      },
      "source": [
        "fig = plt.figure()\r\n",
        "fig.suptitle('Performance Comparison')\r\n",
        "ax = fig.add_subplot(111)\r\n",
        "plt.boxplot(results)\r\n",
        "ax.set_xticklabels(names)\r\n",
        "plt.show()"
      ],
      "execution_count": 24,
      "outputs": [
        {
          "output_type": "display_data",
          "data": {
            "image/png": "[encoded data removed]",
            "text/plain": [
              "<Figure size 432x288 with 1 Axes>"
            ]
          },
          "metadata": {
            "tags": [],
            "needs_background": "light"
          }
        }
      ]
    },
    {
      "cell_type": "markdown",
      "metadata": {
        "id": "onXhJzhRm17l"
      },
      "source": [
        "#Evalution of Algorithms on Standardised Data"
      ]
    },
    {
      "cell_type": "code",
      "metadata": {
        "id": "3goy-x_vmyj1"
      },
      "source": [
        "import warnings\r\n",
        "from sklearn.pipeline import Pipeline\r\n",
        "from sklearn.preprocessing import StandardScaler\r\n",
        "\r\n",
        "\r\n",
        "# Standardize the dataset\r\n",
        "pipelines = []\r\n",
        "\r\n",
        "pipelines.append(('ScaledCART', Pipeline([('Scaler', StandardScaler()),('CART',DecisionTreeClassifier())])))\r\n",
        "pipelines.append(('ScaledSVM', Pipeline([('Scaler', StandardScaler()),('SVM', SVC( ))])))\r\n",
        "pipelines.append(('ScaledNB', Pipeline([('Scaler', StandardScaler()),('LR',LogisticRegression())])))\r\n",
        "pipelines.append(('ScaledNB', Pipeline([('Scaler', StandardScaler()),('NB',GaussianNB())])))\r\n",
        "pipelines.append(('ScaledKNN', Pipeline([('Scaler', StandardScaler()),('KNN',KNeighborsClassifier())])))"
      ],
      "execution_count": 25,
      "outputs": []
    },
    {
      "cell_type": "code",
      "metadata": {
        "colab": {
          "base_uri": "https://localhost:8080/"
        },
        "id": "ObDs7kfbm57s",
        "outputId": "6c1e50cc-2dbb-4531-a3e7-44e1186a3c63"
      },
      "source": [
        "results = []\r\n",
        "names = []\r\n",
        "with warnings.catch_warnings():\r\n",
        "    warnings.simplefilter(\"ignore\")\r\n",
        "    kfold = KFold(n_splits=num_folds, random_state=123)\r\n",
        "    for name, model in pipelines:\r\n",
        "        start = time.time()\r\n",
        "        cv_results = cross_val_score(model, X_train, Y_train, cv=kfold, scoring='accuracy')\r\n",
        "        end = time.time()\r\n",
        "        results.append(cv_results)\r\n",
        "        names.append(name)\r\n",
        "        print( \"%s: %f (%f) (run time: %f)\" % (name, cv_results.mean(), cv_results.std(), end-start))"
      ],
      "execution_count": 26,
      "outputs": [
        {
          "output_type": "stream",
          "text": [
            "ScaledCART: 0.939562 (0.031707) (run time: 0.035105)\n",
            "ScaledSVM: 0.967037 (0.029355) (run time: 0.052328)\n",
            "ScaledNB: 0.965152 (0.020947) (run time: 0.063226)\n",
            "ScaledNB: 0.965219 (0.027777) (run time: 0.021687)\n",
            "ScaledKNN: 0.967003 (0.028188) (run time: 0.052272)\n"
          ],
          "name": "stdout"
        }
      ]
    },
    {
      "cell_type": "code",
      "metadata": {
        "colab": {
          "base_uri": "https://localhost:8080/",
          "height": 294
        },
        "id": "O7IVXRaEm8h4",
        "outputId": "c520ab2a-a358-43fd-aa0a-a20b0f1c5c49"
      },
      "source": [
        "fig = plt.figure()\r\n",
        "fig.suptitle('Performance Comparison')\r\n",
        "ax = fig.add_subplot(111)\r\n",
        "plt.boxplot(results)\r\n",
        "ax.set_xticklabels(names)\r\n",
        "plt.show()"
      ],
      "execution_count": 27,
      "outputs": [
        {
          "output_type": "display_data",
          "data": {
            "image/png": "[encoded data removed]",
            "text/plain": [
              "<Figure size 432x288 with 1 Axes>"
            ]
          },
          "metadata": {
            "tags": [],
            "needs_background": "light"
          }
        }
      ]
    },
    {
      "cell_type": "markdown",
      "metadata": {
        "id": "Fq9dHHhXnBjg"
      },
      "source": [
        "#Hyperparameter Tuning - Tuning SVM"
      ]
    },
    {
      "cell_type": "code",
      "metadata": {
        "colab": {
          "base_uri": "https://localhost:8080/"
        },
        "id": "BipYItWPm-9G",
        "outputId": "27dee042-f397-4e97-ca4a-fb8d067dd2d5"
      },
      "source": [
        "from sklearn.model_selection import GridSearchCV\r\n",
        "\r\n",
        "scaler = StandardScaler().fit(X_train)\r\n",
        "rescaledX = scaler.transform(X_train)\r\n",
        "c_values = [0.1, 0.3, 0.5, 0.7, 0.9, 1.0, 1.3, 1.5, 1.7, 2.0]\r\n",
        "kernel_values = ['linear', 'poly', 'rbf', 'sigmoid']\r\n",
        "param_grid = dict(C=c_values, kernel=kernel_values)\r\n",
        "model = SVC()\r\n",
        "kfold = KFold(n_splits=num_folds, random_state=21)\r\n",
        "grid = GridSearchCV(estimator=model, param_grid=param_grid, scoring='accuracy', cv=kfold)\r\n",
        "grid_result = grid.fit(rescaledX, Y_train)\r\n",
        "print(\"Best: %f using %s\" % (grid_result.best_score_, grid_result.best_params_))\r\n",
        "means = grid_result.cv_results_['mean_test_score']\r\n",
        "stds = grid_result.cv_results_['std_test_score']\r\n",
        "params = grid_result.cv_results_['params']\r\n",
        "for mean, stdev, param in zip(means, stds, params):\r\n",
        "    print(\"%f (%f) with: %r\" % (mean, stdev, param))"
      ],
      "execution_count": 28,
      "outputs": [
        {
          "output_type": "stream",
          "text": [
            "/usr/local/lib/python3.7/dist-packages/sklearn/model_selection/_split.py:296: FutureWarning: Setting a random_state has no effect since shuffle is False. This will raise an error in 0.24. You should leave random_state to its default (None), or set shuffle=True.\n",
            "  FutureWarning\n"
          ],
          "name": "stderr"
        },
        {
          "output_type": "stream",
          "text": [
            "Best: 0.974343 using {'C': 0.1, 'kernel': 'sigmoid'}\n",
            "0.968855 (0.024791) with: {'C': 0.1, 'kernel': 'linear'}\n",
            "0.926599 (0.043658) with: {'C': 0.1, 'kernel': 'poly'}\n",
            "0.968855 (0.024791) with: {'C': 0.1, 'kernel': 'rbf'}\n",
            "0.974343 (0.023539) with: {'C': 0.1, 'kernel': 'sigmoid'}\n",
            "0.968855 (0.024791) with: {'C': 0.3, 'kernel': 'linear'}\n",
            "0.948653 (0.028169) with: {'C': 0.3, 'kernel': 'poly'}\n",
            "0.967037 (0.027009) with: {'C': 0.3, 'kernel': 'rbf'}\n",
            "0.970673 (0.025008) with: {'C': 0.3, 'kernel': 'sigmoid'}\n",
            "0.967003 (0.023024) with: {'C': 0.5, 'kernel': 'linear'}\n",
            "0.954141 (0.026366) with: {'C': 0.5, 'kernel': 'poly'}\n",
            "0.968855 (0.028512) with: {'C': 0.5, 'kernel': 'rbf'}\n",
            "0.972525 (0.020601) with: {'C': 0.5, 'kernel': 'sigmoid'}\n",
            "0.967003 (0.023024) with: {'C': 0.7, 'kernel': 'linear'}\n",
            "0.954141 (0.026366) with: {'C': 0.7, 'kernel': 'poly'}\n",
            "0.968855 (0.028512) with: {'C': 0.7, 'kernel': 'rbf'}\n",
            "0.966970 (0.024549) with: {'C': 0.7, 'kernel': 'sigmoid'}\n",
            "0.967003 (0.023024) with: {'C': 0.9, 'kernel': 'linear'}\n",
            "0.954141 (0.026366) with: {'C': 0.9, 'kernel': 'poly'}\n",
            "0.967037 (0.029355) with: {'C': 0.9, 'kernel': 'rbf'}\n",
            "0.967003 (0.023024) with: {'C': 0.9, 'kernel': 'sigmoid'}\n",
            "0.967003 (0.023024) with: {'C': 1.0, 'kernel': 'linear'}\n",
            "0.955960 (0.028733) with: {'C': 1.0, 'kernel': 'poly'}\n",
            "0.967037 (0.029355) with: {'C': 1.0, 'kernel': 'rbf'}\n",
            "0.965185 (0.023919) with: {'C': 1.0, 'kernel': 'sigmoid'}\n",
            "0.965152 (0.020947) with: {'C': 1.3, 'kernel': 'linear'}\n",
            "0.957811 (0.032837) with: {'C': 1.3, 'kernel': 'poly'}\n",
            "0.965219 (0.032188) with: {'C': 1.3, 'kernel': 'rbf'}\n",
            "0.963333 (0.027357) with: {'C': 1.3, 'kernel': 'sigmoid'}\n",
            "0.965152 (0.020947) with: {'C': 1.5, 'kernel': 'linear'}\n",
            "0.959630 (0.029406) with: {'C': 1.5, 'kernel': 'poly'}\n",
            "0.963367 (0.033821) with: {'C': 1.5, 'kernel': 'rbf'}\n",
            "0.963333 (0.027357) with: {'C': 1.5, 'kernel': 'sigmoid'}\n",
            "0.965152 (0.020947) with: {'C': 1.7, 'kernel': 'linear'}\n",
            "0.959630 (0.029406) with: {'C': 1.7, 'kernel': 'poly'}\n",
            "0.963367 (0.033821) with: {'C': 1.7, 'kernel': 'rbf'}\n",
            "0.959697 (0.028268) with: {'C': 1.7, 'kernel': 'sigmoid'}\n",
            "0.965152 (0.020947) with: {'C': 2.0, 'kernel': 'linear'}\n",
            "0.961481 (0.026498) with: {'C': 2.0, 'kernel': 'poly'}\n",
            "0.961549 (0.032255) with: {'C': 2.0, 'kernel': 'rbf'}\n",
            "0.956027 (0.028707) with: {'C': 2.0, 'kernel': 'sigmoid'}\n"
          ],
          "name": "stdout"
        }
      ]
    },
    {
      "cell_type": "markdown",
      "metadata": {
        "id": "EZT7cDVGnINl"
      },
      "source": [
        "#Application of SVC on dataset"
      ]
    },
    {
      "cell_type": "code",
      "metadata": {
        "colab": {
          "base_uri": "https://localhost:8080/"
        },
        "id": "VUgHKsdcnE9J",
        "outputId": "1c6fc50c-19a7-409f-aa92-62181d545511"
      },
      "source": [
        "# prepare the model\r\n",
        "with warnings.catch_warnings():\r\n",
        "    warnings.simplefilter(\"ignore\")\r\n",
        "    scaler = StandardScaler().fit(X_train)\r\n",
        "X_train_scaled = scaler.transform(X_train)\r\n",
        "model = SVC(C = 0.1, kernel = 'sigmoid')\r\n",
        "start = time.time()\r\n",
        "model.fit(X_train_scaled,Y_train)\r\n",
        "end = time.time()\r\n",
        "print( \"Run Time: %f\" % (end-start))"
      ],
      "execution_count": 29,
      "outputs": [
        {
          "output_type": "stream",
          "text": [
            "Run Time: 0.007148\n"
          ],
          "name": "stdout"
        }
      ]
    },
    {
      "cell_type": "markdown",
      "metadata": {
        "id": "82XMfueMnOBK"
      },
      "source": [
        "#Predicting the Test set results"
      ]
    },
    {
      "cell_type": "code",
      "metadata": {
        "id": "vujP_c6hnLmK"
      },
      "source": [
        "#estimate accuracy on test dataset\r\n",
        "with warnings.catch_warnings():\r\n",
        "    warnings.simplefilter(\"ignore\")\r\n",
        "    X_test_scaled = scaler.transform(X_test)\r\n",
        "predictions = model.predict(X_test_scaled)"
      ],
      "execution_count": 30,
      "outputs": []
    },
    {
      "cell_type": "code",
      "metadata": {
        "colab": {
          "base_uri": "https://localhost:8080/"
        },
        "id": "A-yFBWycnSyG",
        "outputId": "d51a59a4-85f0-4c54-92cc-e807f016e646"
      },
      "source": [
        "score = model.score(X_test_scaled,Y_test)\r\n",
        "score"
      ],
      "execution_count": 31,
      "outputs": [
        {
          "output_type": "execute_result",
          "data": {
            "text/plain": [
              "0.948905109489051"
            ]
          },
          "metadata": {
            "tags": []
          },
          "execution_count": 31
        }
      ]
    },
    {
      "cell_type": "markdown",
      "metadata": {
        "id": "AiHAAhZMnXIX"
      },
      "source": [
        "#Making the Confusion Matrix"
      ]
    },
    {
      "cell_type": "code",
      "metadata": {
        "colab": {
          "base_uri": "https://localhost:8080/"
        },
        "id": "e-aTHo5YnVBY",
        "outputId": "4832f751-cb3e-4079-c6a1-7ddabbe8b2df"
      },
      "source": [
        "print(\"Accuracy: {:.2f} %\".format(score*100))\r\n",
        "print(classification_report(Y_test,predictions))"
      ],
      "execution_count": 32,
      "outputs": [
        {
          "output_type": "stream",
          "text": [
            "Accuracy: 94.89 %\n",
            "              precision    recall  f1-score   support\n",
            "\n",
            "           2       0.97      0.95      0.96        87\n",
            "           4       0.92      0.94      0.93        50\n",
            "\n",
            "    accuracy                           0.95       137\n",
            "   macro avg       0.94      0.95      0.95       137\n",
            "weighted avg       0.95      0.95      0.95       137\n",
            "\n"
          ],
          "name": "stdout"
        }
      ]
    },
    {
      "cell_type": "code",
      "metadata": {
        "colab": {
          "base_uri": "https://localhost:8080/",
          "height": 260
        },
        "id": "MFgFG-FTnbj9",
        "outputId": "116fcedf-09a4-4922-aae4-4fb46543d402"
      },
      "source": [
        "cm = confusion_matrix(Y_test, predictions)\r\n",
        "plt.figure(figsize=(4,4))\r\n",
        "sns.heatmap(cm, annot=True, fmt=\".3f\", linewidths=.5, square = True, cmap = 'Blues_r');\r\n",
        "plt.ylabel('Actual label');\r\n",
        "plt.xlabel('Predicted label');\r\n",
        "all_sample_title = 'Accuracy Score: {:.2f}%'.format(model.score(X_test_scaled,Y_test)*100)\r\n",
        "plt.title(all_sample_title, size = 15);"
      ],
      "execution_count": 33,
      "outputs": [
        {
          "output_type": "display_data",
          "data": {
            "image/png": "[encoded data removed]",
            "text/plain": [
              "<Figure size 288x288 with 2 Axes>"
            ]
          },
          "metadata": {
            "tags": [],
            "needs_background": "light"
          }
        }
      ]
    },
    {
      "cell_type": "code",
      "metadata": {
        "id": "LUoRUEldnflW"
      },
      "source": [
        ""
      ],
      "execution_count": null,
      "outputs": []
    }
  ]
}